{
 "cells": [
  {
   "cell_type": "code",
   "execution_count": null,
   "metadata": {},
   "outputs": [],
   "source": [
    "from mmdet.apis import init_detector, inference_detector\n",
    "from mmdet.utils import register_all_modules\n",
    "from mmdet.registry import VISUALIZERS\n",
    "import mmcv"
   ]
  },
  {
   "cell_type": "code",
   "execution_count": null,
   "metadata": {},
   "outputs": [],
   "source": [
    "# download the checkpoint demo\n",
    "config_file = '../work_dirs/rtmdet_l/rtmdet_l.py'\n",
    "checkpoint_file = '../work_dirs/rtmdet_l/epoch_3.pth'\n",
    "\n",
    "config_file = '../work_dirs/instaboost/instaboost.py'\n",
    "checkpoint_file = '../work_dirs/instaboost/epoch_2.pth'\n",
    "\n",
    "#config_file = '../work_dirs/dino/dino.py'\n",
    "#checkpoint_file = '../work_dirs/dino/epoch_1.pth'"
   ]
  },
  {
   "cell_type": "code",
   "execution_count": null,
   "metadata": {},
   "outputs": [],
   "source": [
    "#Register all modules in mmdet into the registries\n",
    "register_all_modules()\n",
    "# build the model from a config file and a checkpoint file\n",
    "model = init_detector(config_file, checkpoint_file, device='cuda:0')  # or device='cpu'"
   ]
  },
  {
   "cell_type": "code",
   "execution_count": null,
   "metadata": {},
   "outputs": [],
   "source": [
    "# init the visualizer(execute this block only once)\n",
    "visualizer = VISUALIZERS.build(model.cfg.visualizer)\n",
    "# the dataset_meta is loaded from the checkpoint and\n",
    "# then pass to the model in init_detector\n",
    "visualizer.dataset_meta = model.dataset_meta"
   ]
  },
  {
   "cell_type": "code",
   "execution_count": null,
   "metadata": {},
   "outputs": [],
   "source": [
    "# test a single image\n",
    "img = mmcv.imread( '../data/ic_bin_1000/test/000003/rgb/000014.png', channel_order='rgb')\n",
    "img = mmcv.imread( '../data/ic_bin_1000/val/000000/rgb/000014.jpg', channel_order='rgb')\n",
    "result = inference_detector(model, img)\n"
   ]
  },
  {
   "cell_type": "code",
   "execution_count": null,
   "metadata": {},
   "outputs": [],
   "source": [
    "# show the results\n",
    "visualizer.add_datasample(\n",
    "    'result',\n",
    "    img,\n",
    "    data_sample=result,\n",
    "    draw_gt=True,\n",
    "    wait_time=0,\n",
    "    out_file=\"inference.jpg\",\n",
    "    pred_score_thr=0.5\n",
    ")\n",
    "\n",
    "visualizer.show()"
   ]
  }
 ],
 "metadata": {
  "kernelspec": {
   "display_name": "mmdet",
   "language": "python",
   "name": "python3"
  },
  "language_info": {
   "codemirror_mode": {
    "name": "ipython",
    "version": 3
   },
   "file_extension": ".py",
   "mimetype": "text/x-python",
   "name": "python",
   "nbconvert_exporter": "python",
   "pygments_lexer": "ipython3",
   "version": "3.8.16"
  },
  "pycharm": {
   "stem_cell": {
    "cell_type": "raw",
    "metadata": {
     "collapsed": false
    },
    "source": []
   }
  },
  "vscode": {
   "interpreter": {
    "hash": "26395be4d8bd6f462fe6992ade267d864a329fc5ba918775a7fc2edf93f1463b"
   }
  }
 },
 "nbformat": 4,
 "nbformat_minor": 4
}
